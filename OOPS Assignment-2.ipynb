{
 "cells": [
  {
   "cell_type": "code",
   "execution_count": null,
   "id": "c2401cd8-246c-4e75-bc1c-513fe7adf36b",
   "metadata": {},
   "outputs": [],
   "source": [
    "Q1. What is Abstraction in OOps? Explain with an example."
   ]
  },
  {
   "cell_type": "code",
   "execution_count": null,
   "id": "48557106-c89e-4cb9-a05e-a295d17bce86",
   "metadata": {},
   "outputs": [],
   "source": [
    "(Answer):\n",
    "Abstraction is the process of hiding the internal details of an application from the outer world. \n",
    "Abstraction is used to describe things in simple terms. It’s used to create a boundary between the \n",
    "application and the client programs."
   ]
  },
  {
   "cell_type": "code",
   "execution_count": 2,
   "id": "d46271e4-3551-4287-a933-84100ab2c277",
   "metadata": {},
   "outputs": [],
   "source": [
    "(Example):\n",
    "# Abstract Shape class\n",
    "from abc import ABC, abstractmethod\n",
    "\n",
    "class Shape(ABC):\n",
    "\n",
    "    @abstractmethod\n",
    "    def calculateArea(self):\n",
    "        pass\n",
    "\n",
    "    def displayArea(self):\n",
    "        area = self.calculateArea()\n",
    "        print(f\"The area of this shape is: {area}\")\n",
    "        \n",
    "# Concrete Circle class\n",
    "class Circle(Shape):\n",
    "\n",
    "    def __init__(self, radius):\n",
    "        self.radius = radius\n",
    "\n",
    "    def calculateArea(self):\n",
    "        return 3.14 * self.radius ** 2\n",
    "\n",
    "# Concrete Rectangle class\n",
    "class Rectangle(Shape):\n",
    "\n",
    "    def __init__(self, length, width):\n",
    "        self.length = length\n",
    "        self.width = width\n",
    "\n",
    "    def calculateArea(self):\n",
    "        return self.length * self.width\n"
   ]
  },
  {
   "cell_type": "code",
   "execution_count": 3,
   "id": "9cc6cb07-09a3-4960-9776-197866566a45",
   "metadata": {},
   "outputs": [
    {
     "name": "stdout",
     "output_type": "stream",
     "text": [
      "The area of this shape is: 78.5\n",
      "The area of this shape is: 24\n"
     ]
    }
   ],
   "source": [
    "# Usage\n",
    "circle = Circle(5)\n",
    "rectangle = Rectangle(4, 6)\n",
    "\n",
    "circle.displayArea()    \n",
    "rectangle.displayArea()"
   ]
  },
  {
   "cell_type": "code",
   "execution_count": null,
   "id": "8223d0c0-fba0-441c-baec-30b17da7cf03",
   "metadata": {},
   "outputs": [],
   "source": [
    "Q2. Differentiate between Abstraction and Encapsulation. Explain with an example."
   ]
  },
  {
   "cell_type": "code",
   "execution_count": null,
   "id": "7e198682-f8eb-4751-aa6f-23839effb2c7",
   "metadata": {},
   "outputs": [],
   "source": [
    "(Answer):\n",
    "Abstraction is the method of hiding the unwanted information. Whereas encapsulation is a method to hide\n",
    "the data in a single entity or unit along with a method to protect information from outside. \n",
    "We can implement abstraction using abstract class and interfaces"
   ]
  },
  {
   "cell_type": "code",
   "execution_count": 4,
   "id": "3e753acb-7006-48bd-b344-4c0d9aafe710",
   "metadata": {},
   "outputs": [
    {
     "name": "stdout",
     "output_type": "stream",
     "text": [
      "Ferrari F430's engine started.\n",
      "Engine Status: True\n",
      "Ferrari F430's engine stopped.\n",
      "Engine Status: False\n"
     ]
    }
   ],
   "source": [
    "(Example):\n",
    "# Abstraction - Abstract Class\n",
    "from abc import ABC, abstractmethod\n",
    "\n",
    "class Car(ABC):\n",
    "\n",
    "    @abstractmethod\n",
    "    def start(self):\n",
    "        pass\n",
    "\n",
    "    @abstractmethod\n",
    "    def stop(self):\n",
    "        pass\n",
    "\n",
    "# Encapsulation - Concrete Class\n",
    "class SportsCar(Car):\n",
    "\n",
    "    def __init__(self, brand, model):\n",
    "        self.brand = brand\n",
    "        self.model = model\n",
    "        self.__engine_status = False\n",
    "\n",
    "    def start(self):\n",
    "        self.__engine_status = True\n",
    "        print(f\"{self.brand} {self.model}'s engine started.\")\n",
    "\n",
    "    def stop(self):\n",
    "        self.__engine_status = False\n",
    "        print(f\"{self.brand} {self.model}'s engine stopped.\")\n",
    "\n",
    "    def __update_ecu(self):\n",
    "        print(\"Updating Electronic Control Unit...\")\n",
    "\n",
    "    def get_engine_status(self):\n",
    "        return self.__engine_status\n",
    "\n",
    "# Usage\n",
    "car1 = SportsCar(\"Ferrari\", \"F430\")\n",
    "car1.start()\n",
    "print(\"Engine Status:\", car1.get_engine_status())\n",
    "car1.stop()\n",
    "print(\"Engine Status:\", car1.get_engine_status())\n"
   ]
  },
  {
   "cell_type": "code",
   "execution_count": null,
   "id": "861ae8d9-4b2a-45df-9832-d85ee76557ec",
   "metadata": {},
   "outputs": [],
   "source": [
    "Q3. What is abc module in python? Why is it used?"
   ]
  },
  {
   "cell_type": "code",
   "execution_count": null,
   "id": "f4fbebb4-c8d5-48fe-a701-7b8b98e5ad28",
   "metadata": {},
   "outputs": [],
   "source": [
    "(Answer):\n",
    "The 'abc' module in Python library provides the infrastructure for defining custom abstract base classes. \n",
    "'abc' works by marking methods of the base class as abstract. This is done by @absttractmethod decorator."
   ]
  },
  {
   "cell_type": "code",
   "execution_count": null,
   "id": "ad4ae38f-e078-437d-b750-ede15060c6c7",
   "metadata": {},
   "outputs": [],
   "source": [
    "Here's how you can use the abc module to define an abstract base class:\n",
    "\n",
    "from abc import ABC, abstractmethod\n",
    "\n",
    "class MyAbstractClass(ABC):\n",
    "\n",
    "    @abstractmethod\n",
    "    def some_abstract_method(self):\n",
    "        pass\n",
    "\n",
    "    @abstractmethod\n",
    "    def another_abstract_method(self):\n",
    "        pass\n",
    "    \n",
    "class MyConcreteClass(MyAbstractClass):\n",
    "\n",
    "    def some_abstract_method(self):\n",
    "        print(\"Implementation of some_abstract_method\")\n",
    "\n",
    "    def another_abstract_method(self):\n",
    "        print(\"Implementation of another_abstract_method\")\n",
    "\n",
    "\n",
    "obj = MyConcreteClass()\n",
    "obj.some_abstract_method()\n",
    "obj.another_abstract_method()\n"
   ]
  },
  {
   "cell_type": "code",
   "execution_count": null,
   "id": "56756351-5ebb-42bd-a664-83562233364d",
   "metadata": {},
   "outputs": [],
   "source": [
    "Q4. How can we achieve data abstraction?"
   ]
  },
  {
   "cell_type": "code",
   "execution_count": null,
   "id": "d5c43a4b-8860-4633-8e3f-f3fdab71c837",
   "metadata": {},
   "outputs": [],
   "source": [
    "(Answer):\n",
    "Data abstraction in programming can be achieved through the use of abstract data types (ADTs) and encapsulation.\n",
    "Data abstraction is the process of hiding the implementation details of data and exposing only the essential \n",
    "characteristics and behavior to the users of the data."
   ]
  },
  {
   "cell_type": "code",
   "execution_count": 8,
   "id": "630ceb38-06d8-431d-a2bb-8ce2d81275d3",
   "metadata": {},
   "outputs": [],
   "source": [
    "(Example):\n",
    "    \n",
    "    class BankAccount:\n",
    "    def __init__(self, account_number, balance):\n",
    "        self.__account_number = account_number\n",
    "        self.__balance = balance\n",
    "\n",
    "    def deposit(self, amount):\n",
    "        self.__balance += amount\n",
    "\n",
    "    def withdraw(self, amount):\n",
    "        if amount <= self.__balance:\n",
    "            self.__balance -= amount\n",
    "        else:\n",
    "            print(\"Insufficient balance!\")\n",
    "\n",
    "    def get_balance(self):\n",
    "        return self.__balance\n"
   ]
  },
  {
   "cell_type": "code",
   "execution_count": null,
   "id": "217a9b2c-4368-4cc2-a20d-9c646faf9bbe",
   "metadata": {},
   "outputs": [],
   "source": [
    "Q5. Can we create an instance of an abstract class? Explain your answer."
   ]
  }
 ],
 "metadata": {
  "kernelspec": {
   "display_name": "Python 3 (ipykernel)",
   "language": "python",
   "name": "python3"
  },
  "language_info": {
   "codemirror_mode": {
    "name": "ipython",
    "version": 3
   },
   "file_extension": ".py",
   "mimetype": "text/x-python",
   "name": "python",
   "nbconvert_exporter": "python",
   "pygments_lexer": "ipython3",
   "version": "3.10.8"
  }
 },
 "nbformat": 4,
 "nbformat_minor": 5
}
